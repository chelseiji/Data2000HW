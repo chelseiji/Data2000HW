{
  "nbformat": 4,
  "nbformat_minor": 0,
  "metadata": {
    "colab": {
      "provenance": [],
      "authorship_tag": "ABX9TyNm93X16Zl2ZfOYTfCscpz+",
      "include_colab_link": true
    },
    "kernelspec": {
      "name": "python3",
      "display_name": "Python 3"
    },
    "language_info": {
      "name": "python"
    }
  },
  "cells": [
    {
      "cell_type": "markdown",
      "metadata": {
        "id": "view-in-github",
        "colab_type": "text"
      },
      "source": [
        "<a href=\"https://colab.research.google.com/github/chelseiji/Data2000HW/blob/main/RucksackpackingCC.ipynb\" target=\"_parent\"><img src=\"https://colab.research.google.com/assets/colab-badge.svg\" alt=\"Open In Colab\"/></a>"
      ]
    },
    {
      "cell_type": "markdown",
      "source": [
        "# Part 1\n",
        "\n",
        "One Elf has the important job of loading all of the rucksacks with supplies for the jungle journey. Unfortunately, that Elf didn't quite follow the packing instructions, and so a few items now need to be rearranged.\n",
        "\n",
        "Each rucksack has two large compartments. All items of a given type are meant to go into exactly one of the two compartments. The Elf that did the packing failed to follow this rule for exactly one item type per rucksack.\n",
        "\n",
        "The Elves have made a list of all of the items currently in each rucksack (your puzzle input), but they need your help finding the errors. Every item type is identified by a single lowercase or uppercase letter (that is, `a` and `A` refer to different types of items).\n",
        "\n",
        "The list of items for each rucksack is given as characters all on a single line. A given rucksack always has the same number of items in each of its two compartments, so the first half of the characters represent items in the first compartment, while the second half of the characters represent items in the second compartment.\n",
        "\n",
        "For example, suppose you have the following list of contents from six rucksacks:\n",
        "\n",
        "```\n",
        "vJrwpWtwJgWrhcsFMMfFFhFp\n",
        "jqHRNqRjqzjGDLGLrsFMfFZSrLrFZsSL\n",
        "PmmdzqPrVvPwwTWBwg\n",
        "wMqvLMZHhHMvwLHjbvcjnnSBnvTQFn\n",
        "ttgJtRGJQctTZtZT\n",
        "CrZsJsPPZsGzwwsLwLmpwMDw\n",
        "```\n",
        "\n",
        "  - The first rucksack contains the items `vJrwpWtwJgWrhcsFMMfFFhFp`, which means its first compartment contains the items `vJrwpWtwJgWr`, while the second compartment contains the items `hcsFMMfFFhFp`. The only item type that appears in both compartments is lowercase `p`.\n",
        "  - The second rucksack's compartments contain `jqHRNqRjqzjGDLGL` and `rsFMfFZSrLrFZsSL`. The only item type that appears in both compartments is uppercase `L`.\n",
        "  - The third rucksack's compartments contain `PmmdzqPrV` and `vPwwTWBwg`; the only common item type is uppercase `P`.\n",
        "  - The fourth rucksack's compartments only share item type `v`.\n",
        "  - The fifth rucksack's compartments only share item type `t`.\n",
        "  - The sixth rucksack's compartments only share item type `s`.\n",
        "\n",
        "To help prioritize item rearrangement, every item type can be converted to a priority:\n",
        "\n",
        "    Lowercase item types `a` through `z` have priorities 1 through 26.\n",
        "    Uppercase item types `A` through `Z` have priorities 27 through 52.\n",
        "\n",
        "In the above example, the priority of the item type that appears in both compartments of each rucksack is 16 (`p`), 38 (`L`), 42 (`P`), 22 (`v`), 20 (`t`), and 19 (`s`); the sum of these is 157.\n",
        "\n",
        "**Find the item type that appears in both compartments of each rucksack. What is the sum of the priorities of those item types?**\n",
        "\n",
        "-----\n",
        "\n",
        "# Part 2\n",
        "\n",
        "As you finish identifying the misplaced items, the Elves come to you with another issue.\n",
        "\n",
        "For safety, the Elves are divided into groups of three. Every Elf carries a badge that identifies their group. For efficiency, within each group of three Elves, the badge is the only item type carried by all three Elves. That is, if a group's badge is item type B, then all three Elves will have item type B somewhere in their rucksack, and at most two of the Elves will be carrying any other item type.\n",
        "\n",
        "The problem is that someone forgot to put this year's updated authenticity sticker on the badges. All of the badges need to be pulled out of the rucksacks so the new authenticity stickers can be attached.\n",
        "\n",
        "Additionally, nobody wrote down which item type corresponds to each group's badges. The only way to tell which item type is the right one is by finding the one item type that is common between all three Elves in each group.\n",
        "\n",
        "Every set of three lines in your list corresponds to a single group, but each group can have a different badge item type. So, in the above example, the first group's rucksacks are the first three lines:\n",
        "\n",
        "```\n",
        "vJrwpWtwJgWrhcsFMMfFFhFp\n",
        "jqHRNqRjqzjGDLGLrsFMfFZSrLrFZsSL\n",
        "PmmdzqPrVvPwwTWBwg\n",
        "```\n",
        "\n",
        "And the second group's rucksacks are the next three lines:\n",
        "\n",
        "```\n",
        "wMqvLMZHhHMvwLHjbvcjnnSBnvTQFn\n",
        "ttgJtRGJQctTZtZT\n",
        "CrZsJsPPZsGzwwsLwLmpwMDw\n",
        "```\n",
        "\n",
        "In the first group, the only item type that appears in all three rucksacks is lowercase `r`; this must be their badges. In the second group, their badge item type must be `Z`.\n",
        "\n",
        "Priorities for these items must still be found to organize the sticker attachment efforts: here, they are 18 (`r`) for the first group and 52 (`Z`) for the second group. The sum of these is 70.\n",
        "\n",
        "Find the item type that corresponds to the badges of each three-Elf group. **What is the sum of the priorities of those item types?**\n",
        "\n",
        "-----\n",
        "\n",
        "This problem originally appeared in Advent of Code: https://adventofcode.com/2022/day/3"
      ],
      "metadata": {
        "id": "pilEYEdnLWyC"
      }
    },
    {
      "cell_type": "code",
      "source": [
        "input = open('rucksack-input', 'r')"
      ],
      "metadata": {
        "id": "tebttm-6OAV9"
      },
      "execution_count": 1,
      "outputs": []
    },
    {
      "cell_type": "code",
      "source": [
        "input"
      ],
      "metadata": {
        "colab": {
          "base_uri": "https://localhost:8080/"
        },
        "id": "aXLe2yBqON6a",
        "outputId": "23926433-b91b-49a1-b25d-597a7906f72c"
      },
      "execution_count": 2,
      "outputs": [
        {
          "output_type": "execute_result",
          "data": {
            "text/plain": [
              "<_io.TextIOWrapper name='rucksack-input' mode='r' encoding='UTF-8'>"
            ]
          },
          "metadata": {},
          "execution_count": 2
        }
      ]
    },
    {
      "cell_type": "code",
      "source": [
        "with open('rucksack-input', 'r') as f:\n",
        "  data = f.read()\n"
      ],
      "metadata": {
        "id": "0sQCzLHJOQUm"
      },
      "execution_count": 3,
      "outputs": []
    },
    {
      "cell_type": "code",
      "source": [
        "import os\n",
        "print(os.getcwd())"
      ],
      "metadata": {
        "colab": {
          "base_uri": "https://localhost:8080/"
        },
        "id": "hDjk2Vq9PpPI",
        "outputId": "34cc3f51-aa88-4287-9875-ae891b9fc628"
      },
      "execution_count": 4,
      "outputs": [
        {
          "output_type": "stream",
          "name": "stdout",
          "text": [
            "/content\n"
          ]
        }
      ]
    },
    {
      "cell_type": "code",
      "source": [
        "import string\n",
        "with open('rucksack-input', 'r') as f:\n",
        "  data = f.readlines() #chnages every element into a list\n",
        "\n",
        "data[0:10]"
      ],
      "metadata": {
        "colab": {
          "base_uri": "https://localhost:8080/"
        },
        "id": "euXgFG9uPpwO",
        "outputId": "4101b61b-7f18-4d76-8a42-2e3e2d584519"
      },
      "execution_count": 5,
      "outputs": [
        {
          "output_type": "execute_result",
          "data": {
            "text/plain": [
              "['lDDWVvlVVQfDMlWjGJTRjQCgTGLCLj\\n',\n",
              " 'ZLZpwzLBhwZhSLBsjntGCtgJRjbnJgSG\\n',\n",
              " 'qppdZzzsdsmZphrNsNwZhllDHLcVVDWFPvFWcWdFlv\\n',\n",
              " 'ztdhgJDBJghmQtPFQPpmbw\\n',\n",
              " 'lVlLRcnfllcfVcccGnSQVLcsTPFbpwsPFspTSqmbpswpbF\\n',\n",
              " 'cCHRGcGcCRGlGrGcVGnrdWHWBDzBNhhQZWWNBhJz\\n',\n",
              " 'NfnSSQpdnRSSpvWdSsjZDGNDjGDwTGTjHG\\n',\n",
              " 'wlPzPqzPFbMmqPCFCJmbsjbHLDDHDZjDjbGHsT\\n',\n",
              " 'gwMlgmtmPcqVVvhVnvcRnn\\n',\n",
              " 'cBNBBCHhbhNhblBcCCvcBHSwTwDQSqRwDQpDRsjHST\\n']"
            ]
          },
          "metadata": {},
          "execution_count": 5
        }
      ]
    },
    {
      "cell_type": "code",
      "source": [
        "cleaned_data = []\n",
        "for line in data:\n",
        "  cleaned_data.append(line.strip())"
      ],
      "metadata": {
        "id": "ULCYbO6fP_2x"
      },
      "execution_count": 6,
      "outputs": []
    },
    {
      "cell_type": "code",
      "source": [
        "def split(line: str) -> list[set]:\n",
        "  return [set(line[:len(line) // 2]), set(line[:len(line) // 2:])]"
      ],
      "metadata": {
        "id": "KSxDvbcGPiOv"
      },
      "execution_count": 7,
      "outputs": []
    },
    {
      "cell_type": "code",
      "source": [
        "def get_repeated(line1: list[set]) -> str:\n",
        "    return list(set.intersection(*line1))[0]"
      ],
      "metadata": {
        "id": "F5URKlqQQ4BO"
      },
      "execution_count": 8,
      "outputs": []
    },
    {
      "cell_type": "code",
      "source": [
        "def get_priority(letter: str) -> int:\n",
        "    priority_order = string.ascii_lowercase + string.ascii_uppercase\n",
        "    return priority_order.index(letter) + 1"
      ],
      "metadata": {
        "id": "BkYV9E8aszcl"
      },
      "execution_count": 9,
      "outputs": []
    },
    {
      "cell_type": "code",
      "source": [
        "def p1solution() -> int:\n",
        "    return sum(\n",
        "        [get_priority(\n",
        "            get_repeated(\n",
        "                split(line)\n",
        "            )\n",
        "        )\n",
        "          for line in data\n",
        "        ]\n",
        "    )\n",
        "print(p1solution)"
      ],
      "metadata": {
        "colab": {
          "base_uri": "https://localhost:8080/"
        },
        "id": "_htyt4t0vELf",
        "outputId": "dfb23052-89a0-4442-91c4-dc1ccfdb5eea"
      },
      "execution_count": 10,
      "outputs": [
        {
          "output_type": "stream",
          "name": "stdout",
          "text": [
            "<function p1solution at 0x7d4172bc5f30>\n"
          ]
        }
      ]
    },
    {
      "cell_type": "code",
      "source": [
        "p1solution()"
      ],
      "metadata": {
        "colab": {
          "base_uri": "https://localhost:8080/"
        },
        "id": "OJq_eN3rGkFH",
        "outputId": "5cecc25d-cb9d-4970-d10e-5b070495e708"
      },
      "execution_count": 17,
      "outputs": [
        {
          "output_type": "execute_result",
          "data": {
            "text/plain": [
              "6522"
            ]
          },
          "metadata": {},
          "execution_count": 17
        }
      ]
    },
    {
      "cell_type": "code",
      "source": [
        "def p2solution() -> int:\n",
        "  sum2 = 0\n",
        "  for i in range (0, len(data), 3):\n",
        "    group = [cleaned_data for x in data[i:i+3]]\n",
        "    sum2 += get_priority(get_repeated(group))\n",
        "\n"
      ],
      "metadata": {
        "id": "fqKiYiLcEL_h"
      },
      "execution_count": 21,
      "outputs": []
    },
    {
      "cell_type": "code",
      "source": [
        "p2solution()"
      ],
      "metadata": {
        "colab": {
          "base_uri": "https://localhost:8080/",
          "height": 274
        },
        "id": "4DASX5MZG6_P",
        "outputId": "d82fc7ff-b831-4b27-930f-26968910e821"
      },
      "execution_count": 22,
      "outputs": [
        {
          "output_type": "error",
          "ename": "TypeError",
          "evalue": "ignored",
          "traceback": [
            "\u001b[0;31m---------------------------------------------------------------------------\u001b[0m",
            "\u001b[0;31mTypeError\u001b[0m                                 Traceback (most recent call last)",
            "\u001b[0;32m<ipython-input-22-7e1215f96904>\u001b[0m in \u001b[0;36m<cell line: 1>\u001b[0;34m()\u001b[0m\n\u001b[0;32m----> 1\u001b[0;31m \u001b[0mp2solution\u001b[0m\u001b[0;34m(\u001b[0m\u001b[0;34m)\u001b[0m\u001b[0;34m\u001b[0m\u001b[0;34m\u001b[0m\u001b[0m\n\u001b[0m",
            "\u001b[0;32m<ipython-input-21-a7dd0326f545>\u001b[0m in \u001b[0;36mp2solution\u001b[0;34m()\u001b[0m\n\u001b[1;32m      3\u001b[0m   \u001b[0;32mfor\u001b[0m \u001b[0mi\u001b[0m \u001b[0;32min\u001b[0m \u001b[0mrange\u001b[0m \u001b[0;34m(\u001b[0m\u001b[0;36m0\u001b[0m\u001b[0;34m,\u001b[0m \u001b[0mlen\u001b[0m\u001b[0;34m(\u001b[0m\u001b[0mdata\u001b[0m\u001b[0;34m)\u001b[0m\u001b[0;34m,\u001b[0m \u001b[0;36m3\u001b[0m\u001b[0;34m)\u001b[0m\u001b[0;34m:\u001b[0m\u001b[0;34m\u001b[0m\u001b[0;34m\u001b[0m\u001b[0m\n\u001b[1;32m      4\u001b[0m     \u001b[0mgroup\u001b[0m \u001b[0;34m=\u001b[0m \u001b[0;34m[\u001b[0m\u001b[0mcleaned_data\u001b[0m \u001b[0;32mfor\u001b[0m \u001b[0mx\u001b[0m \u001b[0;32min\u001b[0m \u001b[0mdata\u001b[0m\u001b[0;34m[\u001b[0m\u001b[0mi\u001b[0m\u001b[0;34m:\u001b[0m\u001b[0mi\u001b[0m\u001b[0;34m+\u001b[0m\u001b[0;36m3\u001b[0m\u001b[0;34m]\u001b[0m\u001b[0;34m]\u001b[0m\u001b[0;34m\u001b[0m\u001b[0;34m\u001b[0m\u001b[0m\n\u001b[0;32m----> 5\u001b[0;31m     \u001b[0msum2\u001b[0m \u001b[0;34m+=\u001b[0m \u001b[0mget_priority\u001b[0m\u001b[0;34m(\u001b[0m\u001b[0mget_repeated\u001b[0m\u001b[0;34m(\u001b[0m\u001b[0mgroup\u001b[0m\u001b[0;34m)\u001b[0m\u001b[0;34m)\u001b[0m\u001b[0;34m\u001b[0m\u001b[0;34m\u001b[0m\u001b[0m\n\u001b[0m\u001b[1;32m      6\u001b[0m \u001b[0;34m\u001b[0m\u001b[0m\n",
            "\u001b[0;32m<ipython-input-8-54945735d793>\u001b[0m in \u001b[0;36mget_repeated\u001b[0;34m(line1)\u001b[0m\n\u001b[1;32m      1\u001b[0m \u001b[0;32mdef\u001b[0m \u001b[0mget_repeated\u001b[0m\u001b[0;34m(\u001b[0m\u001b[0mline1\u001b[0m\u001b[0;34m:\u001b[0m \u001b[0mlist\u001b[0m\u001b[0;34m[\u001b[0m\u001b[0mset\u001b[0m\u001b[0;34m]\u001b[0m\u001b[0;34m)\u001b[0m \u001b[0;34m->\u001b[0m \u001b[0mstr\u001b[0m\u001b[0;34m:\u001b[0m\u001b[0;34m\u001b[0m\u001b[0;34m\u001b[0m\u001b[0m\n\u001b[0;32m----> 2\u001b[0;31m     \u001b[0;32mreturn\u001b[0m \u001b[0mlist\u001b[0m\u001b[0;34m(\u001b[0m\u001b[0mset\u001b[0m\u001b[0;34m.\u001b[0m\u001b[0mintersection\u001b[0m\u001b[0;34m(\u001b[0m\u001b[0;34m*\u001b[0m\u001b[0mline1\u001b[0m\u001b[0;34m)\u001b[0m\u001b[0;34m)\u001b[0m\u001b[0;34m[\u001b[0m\u001b[0;36m0\u001b[0m\u001b[0;34m]\u001b[0m\u001b[0;34m\u001b[0m\u001b[0;34m\u001b[0m\u001b[0m\n\u001b[0m",
            "\u001b[0;31mTypeError\u001b[0m: descriptor 'intersection' for 'set' objects doesn't apply to a 'list' object"
          ]
        }
      ]
    }
  ]
}