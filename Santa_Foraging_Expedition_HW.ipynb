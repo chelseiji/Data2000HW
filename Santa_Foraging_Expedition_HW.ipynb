{
  "nbformat": 4,
  "nbformat_minor": 0,
  "metadata": {
    "colab": {
      "provenance": [],
      "include_colab_link": true
    },
    "kernelspec": {
      "name": "python3",
      "display_name": "Python 3"
    },
    "language_info": {
      "name": "python"
    }
  },
  "cells": [
    {
      "cell_type": "markdown",
      "metadata": {
        "id": "view-in-github",
        "colab_type": "text"
      },
      "source": [
        "<a href=\"https://colab.research.google.com/github/chelseiji/Data2000HW/blob/main/Santa_Foraging_Expedition_HW.ipynb\" target=\"_parent\"><img src=\"https://colab.research.google.com/assets/colab-badge.svg\" alt=\"Open In Colab\"/></a>"
      ]
    },
    {
      "cell_type": "code",
      "source": [
        "%%shell\n",
        "\n",
        "git clone https://github.com/chelseiji/Data2000Work.git"
      ],
      "metadata": {
        "colab": {
          "base_uri": "https://localhost:8080/"
        },
        "id": "-Kz0HBFzFHSn",
        "outputId": "487fdb5b-0684-47ab-e406-ca4559e94323"
      },
      "execution_count": null,
      "outputs": [
        {
          "output_type": "stream",
          "name": "stdout",
          "text": [
            "Cloning into 'Data2000Work'...\n",
            "warning: You appear to have cloned an empty repository.\n"
          ]
        },
        {
          "output_type": "execute_result",
          "data": {
            "text/plain": []
          },
          "metadata": {},
          "execution_count": 15
        }
      ]
    },
    {
      "cell_type": "code",
      "source": [
        "%%shell\n",
        "cd Data2000Work\n",
        "git add --all\n",
        "git status"
      ],
      "metadata": {
        "colab": {
          "base_uri": "https://localhost:8080/"
        },
        "id": "QZzmpmfBFHLl",
        "outputId": "4fe0b55d-933b-47a6-f97f-a50cce687e63"
      },
      "execution_count": null,
      "outputs": [
        {
          "output_type": "stream",
          "name": "stdout",
          "text": [
            "On branch main\n",
            "\n",
            "No commits yet\n",
            "\n",
            "nothing to commit (create/copy files and use \"git add\" to track)\n"
          ]
        },
        {
          "output_type": "execute_result",
          "data": {
            "text/plain": []
          },
          "metadata": {},
          "execution_count": 16
        }
      ]
    },
    {
      "cell_type": "code",
      "source": [
        "%%shell\n",
        "cd Data2000Work\n",
        "git config --global user.email \"chelseacalalb@gmail.com\"\n",
        "git config --global user.name \"Chelsea Calalb\"\n",
        "#git commit -a -m \"my first comment\""
      ],
      "metadata": {
        "colab": {
          "base_uri": "https://localhost:8080/"
        },
        "id": "DzzcZKT3FG-T",
        "outputId": "8073b59a-32af-496f-8a3d-7c25fdea6eb4"
      },
      "execution_count": null,
      "outputs": [
        {
          "output_type": "execute_result",
          "data": {
            "text/plain": []
          },
          "metadata": {},
          "execution_count": 17
        }
      ]
    },
    {
      "cell_type": "code",
      "source": [
        "input = open('09-25_input-1', 'r')"
      ],
      "metadata": {
        "id": "Ce_hYonsv6KL"
      },
      "execution_count": null,
      "outputs": []
    },
    {
      "cell_type": "code",
      "source": [
        "input"
      ],
      "metadata": {
        "colab": {
          "base_uri": "https://localhost:8080/"
        },
        "id": "3HMFaMo4wj3c",
        "outputId": "c80ef1a4-a757-4a11-cea5-ebd4248d8448"
      },
      "execution_count": null,
      "outputs": [
        {
          "output_type": "execute_result",
          "data": {
            "text/plain": [
              "<_io.TextIOWrapper name='09-25_input-1' mode='r' encoding='UTF-8'>"
            ]
          },
          "metadata": {},
          "execution_count": 19
        }
      ]
    },
    {
      "cell_type": "code",
      "source": [
        "with open('09-25_input-1', 'r') as f:\n",
        "  data = f.read()\n",
        "\n",
        "data[0:20]"
      ],
      "metadata": {
        "colab": {
          "base_uri": "https://localhost:8080/",
          "height": 35
        },
        "id": "Iqe8Maf3w_Sb",
        "outputId": "faf9a9e3-6309-49fb-ffc0-8c1ea380d45f"
      },
      "execution_count": null,
      "outputs": [
        {
          "output_type": "execute_result",
          "data": {
            "text/plain": [
              "'2494\\n8013\\n1055\\n5425\\n'"
            ],
            "application/vnd.google.colaboratory.intrinsic+json": {
              "type": "string"
            }
          },
          "metadata": {},
          "execution_count": 20
        }
      ]
    },
    {
      "cell_type": "code",
      "source": [
        "import os\n",
        "\n",
        "print(os.getcwd())"
      ],
      "metadata": {
        "colab": {
          "base_uri": "https://localhost:8080/"
        },
        "id": "1Tx53DEfxH3W",
        "outputId": "e23f9592-1579-403c-c572-e0f1f89989e8"
      },
      "execution_count": null,
      "outputs": [
        {
          "output_type": "stream",
          "name": "stdout",
          "text": [
            "/content\n"
          ]
        }
      ]
    },
    {
      "cell_type": "code",
      "source": [
        "with open('09-25_input-1', 'r') as f:\n",
        "  data = f.readlines() #chnages every element into a list\n",
        "\n",
        "data[0:3]"
      ],
      "metadata": {
        "colab": {
          "base_uri": "https://localhost:8080/"
        },
        "id": "rO5zhXrXxhVl",
        "outputId": "2c4dfc89-e676-44db-bbdc-92011dbbccb7"
      },
      "execution_count": null,
      "outputs": [
        {
          "output_type": "execute_result",
          "data": {
            "text/plain": [
              "['2494\\n', '8013\\n', '1055\\n']"
            ]
          },
          "metadata": {},
          "execution_count": 22
        }
      ]
    },
    {
      "cell_type": "code",
      "source": [
        "with open('09-25_input-1', 'r') as f:\n",
        "  data = f.readlines() #chnages every element into a list\n",
        "\n",
        "data[0:10]"
      ],
      "metadata": {
        "colab": {
          "base_uri": "https://localhost:8080/"
        },
        "id": "5NP0FRy0xxad",
        "outputId": "1905639d-0a4f-4579-ff5e-3a250d8ef9a8"
      },
      "execution_count": null,
      "outputs": [
        {
          "output_type": "execute_result",
          "data": {
            "text/plain": [
              "['2494\\n',\n",
              " '8013\\n',\n",
              " '1055\\n',\n",
              " '5425\\n',\n",
              " '9104\\n',\n",
              " '10665\\n',\n",
              " '\\n',\n",
              " '10642\\n',\n",
              " '10677\\n',\n",
              " '10300\\n']"
            ]
          },
          "metadata": {},
          "execution_count": 23
        }
      ]
    },
    {
      "cell_type": "code",
      "source": [
        "cleaned_data = []\n",
        "for line in data:\n",
        "  cleaned_data.append(line.strip())"
      ],
      "metadata": {
        "id": "o9ibKJBLy60-"
      },
      "execution_count": null,
      "outputs": []
    },
    {
      "cell_type": "code",
      "source": [
        "cleaned_data[0:10]"
      ],
      "metadata": {
        "colab": {
          "base_uri": "https://localhost:8080/"
        },
        "id": "7gZOvOZCziAP",
        "outputId": "a0725efb-e783-4207-c817-cbc305b0a805"
      },
      "execution_count": null,
      "outputs": [
        {
          "output_type": "execute_result",
          "data": {
            "text/plain": [
              "['2494',\n",
              " '8013',\n",
              " '1055',\n",
              " '5425',\n",
              " '9104',\n",
              " '10665',\n",
              " '',\n",
              " '10642',\n",
              " '10677',\n",
              " '10300']"
            ]
          },
          "metadata": {},
          "execution_count": 25
        }
      ]
    },
    {
      "cell_type": "code",
      "source": [
        "elves = []\n",
        "_sum_calories = 0\n",
        "\n",
        "for line in cleaned_data:\n",
        "  if line:\n",
        "    _sum_calories += int(line)\n",
        "  else:\n",
        "    elves.append(_sum_calories)\n",
        "    _sum_calories = 0\n",
        "\n",
        "print(elves)"
      ],
      "metadata": {
        "colab": {
          "base_uri": "https://localhost:8080/"
        },
        "id": "ClQlBWdA2Ie5",
        "outputId": "736d54f3-28c1-4664-a233-1269f94f4f9d"
      },
      "execution_count": null,
      "outputs": [
        {
          "output_type": "stream",
          "name": "stdout",
          "text": [
            "[36756, 70369, 46030, 55237, 49273, 61698, 41206, 44233, 56367, 44201, 32018, 37387, 41580, 49624, 48434, 30560, 39161, 46173, 56296, 35211, 50095, 58537, 54079, 35714, 54957, 64459, 57532, 56955, 26072, 37307, 49957, 45779, 50534, 43442, 47706, 53989, 52887, 58969, 59087, 53679, 53645, 9540, 41950, 42664, 59093, 54610, 54749, 57642, 44193, 51811, 57725, 47429, 54352, 47737, 39467, 34327, 44016, 55608, 39769, 54433, 50521, 60294, 49474, 51910, 55010, 49749, 64686, 43246, 43378, 56414, 46049, 52418, 41732, 45909, 36035, 53914, 65111, 49390, 49914, 54498, 51125, 37200, 45668, 36719, 52320, 56373, 13407, 44311, 49278, 59431, 55085, 49991, 42085, 33548, 34867, 43144, 43030, 48300, 56688, 44648, 46987, 56208, 44338, 28794, 47019, 49643, 48918, 45067, 57140, 60109, 38468, 35926, 54367, 45567, 55804, 47463, 54446, 45483, 54775, 66781, 48708, 37863, 54902, 51134, 53017, 43866, 53365, 29457, 10232, 11444, 30021, 37823, 32065, 22486, 34465, 44705, 47623, 35133, 50346, 34619, 50999, 29520, 14867, 54722, 48751, 51088, 50752, 36937, 41793, 28400, 48675, 19117, 37085, 24289, 48077, 40675, 56968, 31349, 42010, 64668, 55060, 54405, 52381, 30134, 33277, 31331, 56841, 38309, 56678, 22211, 52463, 43073, 51145, 52647, 42215, 48072, 40611, 54583, 34582, 63346, 36433, 51362, 46406, 48507, 31845, 65852, 45509, 46043, 48902, 35615, 36401, 48623, 45596, 54097, 47021, 53146, 63968, 58945, 52453, 37830, 59274, 43588, 40046, 49510, 48073, 58310, 63025, 65667, 37526, 55951, 58287, 53790, 47555, 47858, 24592, 48764, 48597, 52023, 30857, 53671, 42521, 28482, 59362, 52942, 58263, 39258, 57464, 53996, 52347, 38088, 40681, 53550, 41747, 46098, 40301, 30761, 42594, 53121, 26024, 42683, 61354, 59555, 50656, 30207, 40949, 12161, 23106, 40339, 65062]\n"
          ]
        }
      ]
    },
    {
      "cell_type": "code",
      "source": [
        "_sum_calories"
      ],
      "metadata": {
        "colab": {
          "base_uri": "https://localhost:8080/"
        },
        "id": "dFG5CzkF3gtv",
        "outputId": "8f920768-8bca-4ef3-f767-5c652a2c98fa"
      },
      "execution_count": null,
      "outputs": [
        {
          "output_type": "execute_result",
          "data": {
            "text/plain": [
              "45416"
            ]
          },
          "metadata": {},
          "execution_count": 27
        }
      ]
    },
    {
      "cell_type": "code",
      "source": [
        "print(max(elves))"
      ],
      "metadata": {
        "colab": {
          "base_uri": "https://localhost:8080/"
        },
        "id": "oE-0ptrt2eVU",
        "outputId": "b3fbcc1a-30a4-4067-b8f7-6ddd4b8fe432"
      },
      "execution_count": null,
      "outputs": [
        {
          "output_type": "stream",
          "name": "stdout",
          "text": [
            "70369\n"
          ]
        }
      ]
    },
    {
      "cell_type": "code",
      "source": [
        "elves.sort(reverse=True)"
      ],
      "metadata": {
        "id": "AJzSOoEM5ep6"
      },
      "execution_count": null,
      "outputs": []
    },
    {
      "cell_type": "code",
      "source": [
        "print(sum(elves[0:3]))"
      ],
      "metadata": {
        "colab": {
          "base_uri": "https://localhost:8080/"
        },
        "id": "WOHx_kHc5Zni",
        "outputId": "c15954b0-22d8-455f-a2bf-ba2358204ca7"
      },
      "execution_count": null,
      "outputs": [
        {
          "output_type": "stream",
          "name": "stdout",
          "text": [
            "203002\n"
          ]
        }
      ]
    }
  ]
}